{
 "cells": [
  {
   "cell_type": "markdown",
   "metadata": {},
   "source": [
    "Download docker compose if you doesn't have"
   ]
  },
  {
   "cell_type": "code",
   "execution_count": null,
   "metadata": {},
   "outputs": [],
   "source": [
    "# sudo curl -L \"https://github.com/docker/compose/releases/download/v2.20.2/docker-compose-$(uname -s)-$(uname -m)\" -o /usr/local/bin/docker-compose"
   ]
  },
  {
   "cell_type": "markdown",
   "metadata": {},
   "source": [
    "Dockerfile config"
   ]
  },
  {
   "cell_type": "code",
   "execution_count": null,
   "metadata": {},
   "outputs": [],
   "source": [
    "# FROM python:3.12-slim # using python image\n",
    "\n",
    "# WORKDIR /app # start application in app directory\n",
    "\n",
    "# COPY requirements.txt requirements.txt\n",
    "# RUN pip install --no-cache-dir -r requirements.txt # install libraries in image\n",
    "\n",
    "# COPY random_forest_model.pkl /app/ # copy model to /app directory\n",
    "# COPY app.py /app/ # copy main file or application to /app directory\n",
    "\n",
    "# CMD [\"python\", \"app.py\"] # run application\n"
   ]
  },
  {
   "cell_type": "markdown",
   "metadata": {},
   "source": [
    "Build Image: "
   ]
  },
  {
   "cell_type": "code",
   "execution_count": null,
   "metadata": {},
   "outputs": [],
   "source": [
    "# docker build -t rf_model_flask ."
   ]
  },
  {
   "cell_type": "markdown",
   "metadata": {},
   "source": [
    "Run docker container: "
   ]
  },
  {
   "cell_type": "code",
   "execution_count": null,
   "metadata": {},
   "outputs": [],
   "source": [
    "# docker run --name rf_model_flask_container -d -p 5000:5000 rf_model_flask"
   ]
  },
  {
   "cell_type": "markdown",
   "metadata": {},
   "source": [
    "Stop the existing container"
   ]
  },
  {
   "cell_type": "code",
   "execution_count": null,
   "metadata": {},
   "outputs": [],
   "source": [
    "# docker stop rf_model_flask_container"
   ]
  },
  {
   "cell_type": "markdown",
   "metadata": {},
   "source": [
    "Remove the existing container"
   ]
  },
  {
   "cell_type": "code",
   "execution_count": null,
   "metadata": {},
   "outputs": [],
   "source": [
    "#docker rm rf_model_flask_container"
   ]
  },
  {
   "cell_type": "markdown",
   "metadata": {},
   "source": [
    "Run the new container"
   ]
  },
  {
   "cell_type": "code",
   "execution_count": null,
   "metadata": {},
   "outputs": [],
   "source": [
    "# docker run --name rf_model_flask_container -d -p 5000:5000 rf_model_flask"
   ]
  },
  {
   "cell_type": "markdown",
   "metadata": {},
   "source": [
    "Start container using docker compose easier"
   ]
  },
  {
   "cell_type": "code",
   "execution_count": null,
   "metadata": {},
   "outputs": [],
   "source": [
    "# docker-compose up -d"
   ]
  },
  {
   "cell_type": "markdown",
   "metadata": {},
   "source": [
    "Inspect logs container what's going on"
   ]
  },
  {
   "cell_type": "code",
   "execution_count": null,
   "metadata": {},
   "outputs": [],
   "source": [
    "# sudo docker logs rf_model_flask_container"
   ]
  },
  {
   "cell_type": "markdown",
   "metadata": {},
   "source": [
    "Nginx Config"
   ]
  },
  {
   "cell_type": "code",
   "execution_count": null,
   "metadata": {},
   "outputs": [],
   "source": [
    "# server {\n",
    "#     listen 80;\n",
    "#     server_name bootcamp1.bongrean.com;\n",
    "\n",
    "#     location / {\n",
    "#         proxy_pass http://localhost:5000;\n",
    "#         proxy_set_header Host $host;\n",
    "#         proxy_set_header X-Real-IP $remote_addr;\n",
    "#         proxy_set_header X-Forwarded-For $proxy_add_x_forwarded_for;\n",
    "#         proxy_set_header X-Forwarded-Proto $scheme;\n",
    "#     }\n",
    "# }"
   ]
  },
  {
   "cell_type": "markdown",
   "metadata": {},
   "source": [
    "IF you updating your code follow this step"
   ]
  },
  {
   "cell_type": "code",
   "execution_count": null,
   "metadata": {},
   "outputs": [],
   "source": [
    "# 1. Rebuild the Docker Image\n",
    "#### docker build -t rf_model_flask .\n",
    "# 2. Stop and Remove the Existing Container\n",
    "#### docker stop rf_model_flask_container && docker rm rf_model_flask_container\n",
    "# 3. if you are using docker compose it easier, just run \n",
    "#### docker-compose up -d --build"
   ]
  }
 ],
 "metadata": {
  "language_info": {
   "name": "python"
  }
 },
 "nbformat": 4,
 "nbformat_minor": 2
}
